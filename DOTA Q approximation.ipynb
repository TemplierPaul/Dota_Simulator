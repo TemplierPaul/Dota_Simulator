{
 "cells": [
  {
   "cell_type": "code",
   "execution_count": 1,
   "metadata": {},
   "outputs": [],
   "source": [
    "import pandas as pd\n",
    "import sklearn\n",
    "import numpy as np\n",
    "import matplotlib.pyplot as plt\n",
    "from sklearn.model_selection import train_test_split\n",
    "from sklearn.preprocessing import StandardScaler"
   ]
  },
  {
   "cell_type": "markdown",
   "metadata": {},
   "source": [
    "## Import data"
   ]
  },
  {
   "cell_type": "code",
   "execution_count": 2,
   "metadata": {},
   "outputs": [
    {
     "name": "stdout",
     "output_type": "stream",
     "text": [
      "(59250, 147)\n"
     ]
    }
   ],
   "source": [
    "load_all = True\n",
    "if load_all:\n",
    "    # Load all\n",
    "    df = pd.read_csv(\"all_episodes.csv\", header=None)\n",
    "else:\n",
    "    # Load first 1000 lines\n",
    "    df = pd.read_csv(\"all_episodes.csv\", nrows=1000, header=None)\n",
    "print(df.shape)"
   ]
  },
  {
   "cell_type": "code",
   "execution_count": 3,
   "metadata": {},
   "outputs": [
    {
     "data": {
      "text/html": [
       "<div>\n",
       "<style scoped>\n",
       "    .dataframe tbody tr th:only-of-type {\n",
       "        vertical-align: middle;\n",
       "    }\n",
       "\n",
       "    .dataframe tbody tr th {\n",
       "        vertical-align: top;\n",
       "    }\n",
       "\n",
       "    .dataframe thead th {\n",
       "        text-align: right;\n",
       "    }\n",
       "</style>\n",
       "<table border=\"1\" class=\"dataframe\">\n",
       "  <thead>\n",
       "    <tr style=\"text-align: right;\">\n",
       "      <th></th>\n",
       "      <th>143</th>\n",
       "      <th>144</th>\n",
       "      <th>145</th>\n",
       "      <th>146</th>\n",
       "    </tr>\n",
       "  </thead>\n",
       "  <tbody>\n",
       "    <tr>\n",
       "      <th>count</th>\n",
       "      <td>59250.000000</td>\n",
       "      <td>59250.000000</td>\n",
       "      <td>59250.0</td>\n",
       "      <td>59250.000000</td>\n",
       "    </tr>\n",
       "    <tr>\n",
       "      <th>mean</th>\n",
       "      <td>732.323797</td>\n",
       "      <td>0.113553</td>\n",
       "      <td>0.0</td>\n",
       "      <td>0.007994</td>\n",
       "    </tr>\n",
       "    <tr>\n",
       "      <th>std</th>\n",
       "      <td>130.638931</td>\n",
       "      <td>0.523060</td>\n",
       "      <td>0.0</td>\n",
       "      <td>0.026082</td>\n",
       "    </tr>\n",
       "    <tr>\n",
       "      <th>min</th>\n",
       "      <td>581.000000</td>\n",
       "      <td>0.000000</td>\n",
       "      <td>0.0</td>\n",
       "      <td>0.000000</td>\n",
       "    </tr>\n",
       "    <tr>\n",
       "      <th>25%</th>\n",
       "      <td>613.000000</td>\n",
       "      <td>0.000000</td>\n",
       "      <td>0.0</td>\n",
       "      <td>0.000000</td>\n",
       "    </tr>\n",
       "    <tr>\n",
       "      <th>50%</th>\n",
       "      <td>710.000000</td>\n",
       "      <td>0.000000</td>\n",
       "      <td>0.0</td>\n",
       "      <td>0.000000</td>\n",
       "    </tr>\n",
       "    <tr>\n",
       "      <th>75%</th>\n",
       "      <td>810.000000</td>\n",
       "      <td>0.000000</td>\n",
       "      <td>0.0</td>\n",
       "      <td>0.000000</td>\n",
       "    </tr>\n",
       "    <tr>\n",
       "      <th>max</th>\n",
       "      <td>1485.000000</td>\n",
       "      <td>9.000000</td>\n",
       "      <td>0.0</td>\n",
       "      <td>0.366667</td>\n",
       "    </tr>\n",
       "  </tbody>\n",
       "</table>\n",
       "</div>"
      ],
      "text/plain": [
       "                143           144      145           146\n",
       "count  59250.000000  59250.000000  59250.0  59250.000000\n",
       "mean     732.323797      0.113553      0.0      0.007994\n",
       "std      130.638931      0.523060      0.0      0.026082\n",
       "min      581.000000      0.000000      0.0      0.000000\n",
       "25%      613.000000      0.000000      0.0      0.000000\n",
       "50%      710.000000      0.000000      0.0      0.000000\n",
       "75%      810.000000      0.000000      0.0      0.000000\n",
       "max     1485.000000      9.000000      0.0      0.366667"
      ]
     },
     "execution_count": 3,
     "metadata": {},
     "output_type": "execute_result"
    }
   ],
   "source": [
    "df.iloc[:, 143:148].describe()"
   ]
  },
  {
   "cell_type": "code",
   "execution_count": 4,
   "metadata": {
    "scrolled": true
   },
   "outputs": [
    {
     "name": "stdout",
     "output_type": "stream",
     "text": [
      "113 30 4 | 147\n"
     ]
    }
   ],
   "source": [
    "features_nb = 113\n",
    "actions_nb = 30\n",
    "rewards_nb = 4\n",
    "total_nb = features_nb + actions_nb + rewards_nb\n",
    "print(features_nb, actions_nb, rewards_nb, '|', total_nb)"
   ]
  },
  {
   "cell_type": "code",
   "execution_count": 5,
   "metadata": {
    "scrolled": false
   },
   "outputs": [
    {
     "data": {
      "text/html": [
       "<div>\n",
       "<style scoped>\n",
       "    .dataframe tbody tr th:only-of-type {\n",
       "        vertical-align: middle;\n",
       "    }\n",
       "\n",
       "    .dataframe tbody tr th {\n",
       "        vertical-align: top;\n",
       "    }\n",
       "\n",
       "    .dataframe thead th {\n",
       "        text-align: right;\n",
       "    }\n",
       "</style>\n",
       "<table border=\"1\" class=\"dataframe\">\n",
       "  <thead>\n",
       "    <tr style=\"text-align: right;\">\n",
       "      <th></th>\n",
       "      <th>0</th>\n",
       "      <th>1</th>\n",
       "      <th>2</th>\n",
       "      <th>3</th>\n",
       "      <th>4</th>\n",
       "      <th>5</th>\n",
       "      <th>6</th>\n",
       "      <th>7</th>\n",
       "      <th>8</th>\n",
       "      <th>9</th>\n",
       "      <th>...</th>\n",
       "      <th>137</th>\n",
       "      <th>138</th>\n",
       "      <th>139</th>\n",
       "      <th>140</th>\n",
       "      <th>141</th>\n",
       "      <th>142</th>\n",
       "      <th>143</th>\n",
       "      <th>144</th>\n",
       "      <th>145</th>\n",
       "      <th>146</th>\n",
       "    </tr>\n",
       "  </thead>\n",
       "  <tbody>\n",
       "    <tr>\n",
       "      <th>count</th>\n",
       "      <td>5.925000e+04</td>\n",
       "      <td>5.925000e+04</td>\n",
       "      <td>5.925000e+04</td>\n",
       "      <td>5.925000e+04</td>\n",
       "      <td>5.925000e+04</td>\n",
       "      <td>59250.0</td>\n",
       "      <td>5.925000e+04</td>\n",
       "      <td>59250.0</td>\n",
       "      <td>5.925000e+04</td>\n",
       "      <td>5.925000e+04</td>\n",
       "      <td>...</td>\n",
       "      <td>59250.0</td>\n",
       "      <td>5.925000e+04</td>\n",
       "      <td>5.925000e+04</td>\n",
       "      <td>5.925000e+04</td>\n",
       "      <td>5.925000e+04</td>\n",
       "      <td>5.925000e+04</td>\n",
       "      <td>5.925000e+04</td>\n",
       "      <td>5.925000e+04</td>\n",
       "      <td>59250.0</td>\n",
       "      <td>5.925000e+04</td>\n",
       "    </tr>\n",
       "    <tr>\n",
       "      <th>mean</th>\n",
       "      <td>-5.295560e-14</td>\n",
       "      <td>-1.449710e-14</td>\n",
       "      <td>-3.840326e-15</td>\n",
       "      <td>-2.610551e-14</td>\n",
       "      <td>-1.297167e-14</td>\n",
       "      <td>0.0</td>\n",
       "      <td>6.790977e-14</td>\n",
       "      <td>0.0</td>\n",
       "      <td>-1.064776e-14</td>\n",
       "      <td>-2.859482e-14</td>\n",
       "      <td>...</td>\n",
       "      <td>0.0</td>\n",
       "      <td>-6.366497e-16</td>\n",
       "      <td>1.090420e-14</td>\n",
       "      <td>-8.773222e-15</td>\n",
       "      <td>-5.796105e-14</td>\n",
       "      <td>-4.078668e-15</td>\n",
       "      <td>2.946890e-14</td>\n",
       "      <td>5.994897e-14</td>\n",
       "      <td>0.0</td>\n",
       "      <td>2.850303e-14</td>\n",
       "    </tr>\n",
       "    <tr>\n",
       "      <th>std</th>\n",
       "      <td>1.000008e+00</td>\n",
       "      <td>1.000008e+00</td>\n",
       "      <td>1.000008e+00</td>\n",
       "      <td>1.000008e+00</td>\n",
       "      <td>1.000008e+00</td>\n",
       "      <td>0.0</td>\n",
       "      <td>1.000008e+00</td>\n",
       "      <td>0.0</td>\n",
       "      <td>1.000008e+00</td>\n",
       "      <td>1.000008e+00</td>\n",
       "      <td>...</td>\n",
       "      <td>0.0</td>\n",
       "      <td>1.000008e+00</td>\n",
       "      <td>1.000008e+00</td>\n",
       "      <td>1.000008e+00</td>\n",
       "      <td>1.000008e+00</td>\n",
       "      <td>1.000008e+00</td>\n",
       "      <td>1.000008e+00</td>\n",
       "      <td>1.000008e+00</td>\n",
       "      <td>0.0</td>\n",
       "      <td>1.000008e+00</td>\n",
       "    </tr>\n",
       "    <tr>\n",
       "      <th>min</th>\n",
       "      <td>-4.424635e-01</td>\n",
       "      <td>-4.824403e+00</td>\n",
       "      <td>-8.481953e-01</td>\n",
       "      <td>-1.338186e+01</td>\n",
       "      <td>-7.718636e-01</td>\n",
       "      <td>0.0</td>\n",
       "      <td>-3.315992e+00</td>\n",
       "      <td>0.0</td>\n",
       "      <td>-3.492009e+00</td>\n",
       "      <td>-2.241391e+00</td>\n",
       "      <td>...</td>\n",
       "      <td>0.0</td>\n",
       "      <td>-7.529335e-02</td>\n",
       "      <td>-4.884080e-02</td>\n",
       "      <td>-4.652972e-02</td>\n",
       "      <td>-4.523686e-02</td>\n",
       "      <td>-1.362676e-02</td>\n",
       "      <td>-1.158346e+00</td>\n",
       "      <td>-2.170951e-01</td>\n",
       "      <td>0.0</td>\n",
       "      <td>-3.064923e-01</td>\n",
       "    </tr>\n",
       "    <tr>\n",
       "      <th>25%</th>\n",
       "      <td>-4.424635e-01</td>\n",
       "      <td>1.184407e-01</td>\n",
       "      <td>-7.838490e-01</td>\n",
       "      <td>-3.682935e-01</td>\n",
       "      <td>-7.718636e-01</td>\n",
       "      <td>0.0</td>\n",
       "      <td>-5.518618e-01</td>\n",
       "      <td>0.0</td>\n",
       "      <td>-7.447552e-01</td>\n",
       "      <td>-8.479972e-01</td>\n",
       "      <td>...</td>\n",
       "      <td>0.0</td>\n",
       "      <td>-7.529335e-02</td>\n",
       "      <td>-4.884080e-02</td>\n",
       "      <td>-4.652972e-02</td>\n",
       "      <td>-4.523686e-02</td>\n",
       "      <td>-1.362676e-02</td>\n",
       "      <td>-9.133939e-01</td>\n",
       "      <td>-2.170951e-01</td>\n",
       "      <td>0.0</td>\n",
       "      <td>-3.064923e-01</td>\n",
       "    </tr>\n",
       "    <tr>\n",
       "      <th>50%</th>\n",
       "      <td>-4.424635e-01</td>\n",
       "      <td>1.184407e-01</td>\n",
       "      <td>-6.551564e-01</td>\n",
       "      <td>-3.682935e-01</td>\n",
       "      <td>-7.557383e-01</td>\n",
       "      <td>0.0</td>\n",
       "      <td>-5.518618e-01</td>\n",
       "      <td>0.0</td>\n",
       "      <td>-5.794156e-02</td>\n",
       "      <td>-8.479972e-01</td>\n",
       "      <td>...</td>\n",
       "      <td>0.0</td>\n",
       "      <td>-7.529335e-02</td>\n",
       "      <td>-4.884080e-02</td>\n",
       "      <td>-4.652972e-02</td>\n",
       "      <td>-4.523686e-02</td>\n",
       "      <td>-1.362676e-02</td>\n",
       "      <td>-1.708831e-01</td>\n",
       "      <td>-2.170951e-01</td>\n",
       "      <td>0.0</td>\n",
       "      <td>-3.064923e-01</td>\n",
       "    </tr>\n",
       "    <tr>\n",
       "      <th>75%</th>\n",
       "      <td>-4.424635e-01</td>\n",
       "      <td>2.682238e-01</td>\n",
       "      <td>1.275232e+00</td>\n",
       "      <td>9.509772e-02</td>\n",
       "      <td>1.278056e+00</td>\n",
       "      <td>0.0</td>\n",
       "      <td>-9.117352e-02</td>\n",
       "      <td>0.0</td>\n",
       "      <td>6.288720e-01</td>\n",
       "      <td>5.453964e-01</td>\n",
       "      <td>...</td>\n",
       "      <td>0.0</td>\n",
       "      <td>-7.529335e-02</td>\n",
       "      <td>-4.884080e-02</td>\n",
       "      <td>-4.652972e-02</td>\n",
       "      <td>-4.523686e-02</td>\n",
       "      <td>-1.362676e-02</td>\n",
       "      <td>5.945920e-01</td>\n",
       "      <td>-2.170951e-01</td>\n",
       "      <td>0.0</td>\n",
       "      <td>-3.064923e-01</td>\n",
       "    </tr>\n",
       "    <tr>\n",
       "      <th>max</th>\n",
       "      <td>8.719471e+00</td>\n",
       "      <td>2.215405e+00</td>\n",
       "      <td>3.919865e+00</td>\n",
       "      <td>5.192402e+00</td>\n",
       "      <td>1.668085e+00</td>\n",
       "      <td>0.0</td>\n",
       "      <td>7.740528e+00</td>\n",
       "      <td>0.0</td>\n",
       "      <td>6.810194e+00</td>\n",
       "      <td>4.609467e+00</td>\n",
       "      <td>...</td>\n",
       "      <td>0.0</td>\n",
       "      <td>1.328139e+01</td>\n",
       "      <td>2.047469e+01</td>\n",
       "      <td>2.149164e+01</td>\n",
       "      <td>2.210587e+01</td>\n",
       "      <td>7.338504e+01</td>\n",
       "      <td>5.761549e+00</td>\n",
       "      <td>1.698950e+01</td>\n",
       "      <td>0.0</td>\n",
       "      <td>1.375211e+01</td>\n",
       "    </tr>\n",
       "  </tbody>\n",
       "</table>\n",
       "<p>8 rows × 147 columns</p>\n",
       "</div>"
      ],
      "text/plain": [
       "                0             1             2             3             4    \\\n",
       "count  5.925000e+04  5.925000e+04  5.925000e+04  5.925000e+04  5.925000e+04   \n",
       "mean  -5.295560e-14 -1.449710e-14 -3.840326e-15 -2.610551e-14 -1.297167e-14   \n",
       "std    1.000008e+00  1.000008e+00  1.000008e+00  1.000008e+00  1.000008e+00   \n",
       "min   -4.424635e-01 -4.824403e+00 -8.481953e-01 -1.338186e+01 -7.718636e-01   \n",
       "25%   -4.424635e-01  1.184407e-01 -7.838490e-01 -3.682935e-01 -7.718636e-01   \n",
       "50%   -4.424635e-01  1.184407e-01 -6.551564e-01 -3.682935e-01 -7.557383e-01   \n",
       "75%   -4.424635e-01  2.682238e-01  1.275232e+00  9.509772e-02  1.278056e+00   \n",
       "max    8.719471e+00  2.215405e+00  3.919865e+00  5.192402e+00  1.668085e+00   \n",
       "\n",
       "           5             6        7             8             9    ...  \\\n",
       "count  59250.0  5.925000e+04  59250.0  5.925000e+04  5.925000e+04  ...   \n",
       "mean       0.0  6.790977e-14      0.0 -1.064776e-14 -2.859482e-14  ...   \n",
       "std        0.0  1.000008e+00      0.0  1.000008e+00  1.000008e+00  ...   \n",
       "min        0.0 -3.315992e+00      0.0 -3.492009e+00 -2.241391e+00  ...   \n",
       "25%        0.0 -5.518618e-01      0.0 -7.447552e-01 -8.479972e-01  ...   \n",
       "50%        0.0 -5.518618e-01      0.0 -5.794156e-02 -8.479972e-01  ...   \n",
       "75%        0.0 -9.117352e-02      0.0  6.288720e-01  5.453964e-01  ...   \n",
       "max        0.0  7.740528e+00      0.0  6.810194e+00  4.609467e+00  ...   \n",
       "\n",
       "           137           138           139           140           141  \\\n",
       "count  59250.0  5.925000e+04  5.925000e+04  5.925000e+04  5.925000e+04   \n",
       "mean       0.0 -6.366497e-16  1.090420e-14 -8.773222e-15 -5.796105e-14   \n",
       "std        0.0  1.000008e+00  1.000008e+00  1.000008e+00  1.000008e+00   \n",
       "min        0.0 -7.529335e-02 -4.884080e-02 -4.652972e-02 -4.523686e-02   \n",
       "25%        0.0 -7.529335e-02 -4.884080e-02 -4.652972e-02 -4.523686e-02   \n",
       "50%        0.0 -7.529335e-02 -4.884080e-02 -4.652972e-02 -4.523686e-02   \n",
       "75%        0.0 -7.529335e-02 -4.884080e-02 -4.652972e-02 -4.523686e-02   \n",
       "max        0.0  1.328139e+01  2.047469e+01  2.149164e+01  2.210587e+01   \n",
       "\n",
       "                142           143           144      145           146  \n",
       "count  5.925000e+04  5.925000e+04  5.925000e+04  59250.0  5.925000e+04  \n",
       "mean  -4.078668e-15  2.946890e-14  5.994897e-14      0.0  2.850303e-14  \n",
       "std    1.000008e+00  1.000008e+00  1.000008e+00      0.0  1.000008e+00  \n",
       "min   -1.362676e-02 -1.158346e+00 -2.170951e-01      0.0 -3.064923e-01  \n",
       "25%   -1.362676e-02 -9.133939e-01 -2.170951e-01      0.0 -3.064923e-01  \n",
       "50%   -1.362676e-02 -1.708831e-01 -2.170951e-01      0.0 -3.064923e-01  \n",
       "75%   -1.362676e-02  5.945920e-01 -2.170951e-01      0.0 -3.064923e-01  \n",
       "max    7.338504e+01  5.761549e+00  1.698950e+01      0.0  1.375211e+01  \n",
       "\n",
       "[8 rows x 147 columns]"
      ]
     },
     "execution_count": 5,
     "metadata": {},
     "output_type": "execute_result"
    }
   ],
   "source": [
    "# Scale\n",
    "scaler = StandardScaler()\n",
    "scaler.fit(df)\n",
    "df_scaled = pd.DataFrame(scaler.transform(df))\n",
    "\n",
    "df_scaled.describe()"
   ]
  },
  {
   "cell_type": "code",
   "execution_count": 13,
   "metadata": {},
   "outputs": [
    {
     "name": "stdout",
     "output_type": "stream",
     "text": [
      "(59250, 143) (59250, 4)\n",
      "(59249, 143) (59249, 4)\n"
     ]
    }
   ],
   "source": [
    "# Split X, r\n",
    "X = df_scaled.iloc[:, : features_nb+actions_nb]\n",
    "r = df_scaled.iloc[:, features_nb+actions_nb : total_nb]\n",
    "\n",
    "print(X.shape, r.shape)\n",
    "\n",
    "# Offset\n",
    "X = X.drop(index=len(X)-1, axis=0) # Drop the last one\n",
    "r = r.drop(index=0, axis=0) # Drop the first one\n",
    "\n",
    "print(X.shape, r.shape)"
   ]
  },
  {
   "cell_type": "code",
   "execution_count": 14,
   "metadata": {},
   "outputs": [
    {
     "data": {
      "text/plain": [
       "2.267369423676867e-05"
      ]
     },
     "execution_count": 14,
     "metadata": {},
     "output_type": "execute_result"
    }
   ],
   "source": [
    "max(X.describe().loc['mean'])"
   ]
  },
  {
   "cell_type": "markdown",
   "metadata": {},
   "source": [
    "## Sklearn"
   ]
  },
  {
   "cell_type": "code",
   "execution_count": 15,
   "metadata": {},
   "outputs": [],
   "source": [
    "from sklearn.ensemble import RandomForestRegressor\n",
    "from sklearn.linear_model import LinearRegression\n",
    "from sklearn.model_selection import train_test_split\n",
    "from sklearn.multioutput import MultiOutputRegressor"
   ]
  },
  {
   "cell_type": "code",
   "execution_count": 16,
   "metadata": {},
   "outputs": [],
   "source": [
    "X_train, X_test, r_train, r_test = train_test_split(X, r, test_size=0.2, random_state=42, shuffle=True)"
   ]
  },
  {
   "cell_type": "code",
   "execution_count": 17,
   "metadata": {},
   "outputs": [
    {
     "data": {
      "text/plain": [
       "((47399, 143), (11850, 143), (47399, 4), (11850, 4))"
      ]
     },
     "execution_count": 17,
     "metadata": {},
     "output_type": "execute_result"
    }
   ],
   "source": [
    "X_train.shape, X_test.shape, r_train.shape, r_test.shape"
   ]
  },
  {
   "cell_type": "code",
   "execution_count": 18,
   "metadata": {},
   "outputs": [],
   "source": [
    "from sklearn.metrics import mean_squared_error, explained_variance_score, max_error, mean_absolute_error, mean_squared_log_error, r2_score, median_absolute_error\n",
    "\n",
    "def metrics(model, X_test, y_test):\n",
    "    y_pred = model.predict(X_test)\n",
    "    print(\"\\n-- METRICS --\")\n",
    "    \n",
    "    metrics_list = [mean_squared_error, explained_variance_score, \n",
    "              mean_absolute_error, median_absolute_error, mean_squared_log_error, r2_score]\n",
    "    \n",
    "    for m in metrics_list:\n",
    "        try:\n",
    "            val = m(y_test, y_pred)\n",
    "            print('{:30}{:5.4f}'.format(m.__name__, val))\n",
    "        except:\n",
    "            print('{:30}Cannot be computed'.format(m.__name__, val))\n",
    "\n",
    "    "
   ]
  },
  {
   "cell_type": "markdown",
   "metadata": {},
   "source": [
    "### RandomForestRegressor"
   ]
  },
  {
   "cell_type": "code",
   "execution_count": 19,
   "metadata": {},
   "outputs": [
    {
     "name": "stdout",
     "output_type": "stream",
     "text": [
      "\n",
      "-- METRICS --\n",
      "mean_squared_error            0.0084\n",
      "explained_variance_score      0.9915\n",
      "mean_absolute_error           0.0060\n",
      "median_absolute_error         0.0001\n",
      "mean_squared_log_error        Cannot be computed\n",
      "r2_score                      0.9915\n"
     ]
    }
   ],
   "source": [
    "max_depth = 30\n",
    "\n",
    "regr_rf = RandomForestRegressor(n_estimators=100, max_depth=max_depth,\n",
    "                                random_state=2)\n",
    "regr_rf.fit(X_train, r_train)\n",
    "\n",
    "metrics(regr_rf, X_test, r_test)"
   ]
  },
  {
   "cell_type": "markdown",
   "metadata": {},
   "source": [
    "### Multioutput linear regression"
   ]
  },
  {
   "cell_type": "code",
   "execution_count": 20,
   "metadata": {},
   "outputs": [
    {
     "name": "stdout",
     "output_type": "stream",
     "text": [
      "\n",
      "-- METRICS --\n",
      "mean_squared_error            0.0129\n",
      "explained_variance_score      0.9869\n",
      "mean_absolute_error           0.0223\n",
      "median_absolute_error         0.0069\n",
      "mean_squared_log_error        Cannot be computed\n",
      "r2_score                      0.9869\n"
     ]
    }
   ],
   "source": [
    "regr_multilin = MultiOutputRegressor(LinearRegression())\n",
    "regr_multilin.fit(X_train, r_train)\n",
    "\n",
    "metrics(regr_multilin, X_test, r_test)"
   ]
  },
  {
   "cell_type": "markdown",
   "metadata": {},
   "source": [
    "### Multioutput RFR"
   ]
  },
  {
   "cell_type": "code",
   "execution_count": 21,
   "metadata": {},
   "outputs": [
    {
     "name": "stdout",
     "output_type": "stream",
     "text": [
      "\n",
      "-- METRICS --\n",
      "mean_squared_error            0.0080\n",
      "explained_variance_score      0.9919\n",
      "mean_absolute_error           0.0056\n",
      "median_absolute_error         0.0001\n",
      "mean_squared_log_error        Cannot be computed\n",
      "r2_score                      0.9919\n"
     ]
    }
   ],
   "source": [
    "regr_multirfr = MultiOutputRegressor(RandomForestRegressor(n_estimators=100,\n",
    "                                                          max_depth=max_depth,\n",
    "                                                          random_state=0))\n",
    "\n",
    "regr_multirfr.fit(X_train, r_train)\n",
    "\n",
    "metrics(regr_multirfr, X_test, r_test)"
   ]
  },
  {
   "cell_type": "markdown",
   "metadata": {},
   "source": [
    "## Results analysis"
   ]
  },
  {
   "cell_type": "code",
   "execution_count": 39,
   "metadata": {},
   "outputs": [
    {
     "name": "stdout",
     "output_type": "stream",
     "text": [
      "(11850, 143) (11850, 4)\n",
      "(779, 143) (779, 4)\n"
     ]
    }
   ],
   "source": [
    "x = X_test.reset_index(drop=True)\n",
    "y = r_test.reset_index(drop=True)\n",
    "print(x.shape, y.shape)\n",
    "\n",
    "# Filter \n",
    "f = y[144]> 0\n",
    "x = x[f]\n",
    "y = y[f]\n",
    "print(x.shape, y.shape)"
   ]
  },
  {
   "cell_type": "code",
   "execution_count": 41,
   "metadata": {},
   "outputs": [
    {
     "data": {
      "text/html": [
       "<div>\n",
       "<style scoped>\n",
       "    .dataframe tbody tr th:only-of-type {\n",
       "        vertical-align: middle;\n",
       "    }\n",
       "\n",
       "    .dataframe tbody tr th {\n",
       "        vertical-align: top;\n",
       "    }\n",
       "\n",
       "    .dataframe thead th {\n",
       "        text-align: right;\n",
       "    }\n",
       "</style>\n",
       "<table border=\"1\" class=\"dataframe\">\n",
       "  <thead>\n",
       "    <tr style=\"text-align: right;\">\n",
       "      <th></th>\n",
       "      <th>143</th>\n",
       "      <th>144</th>\n",
       "      <th>145</th>\n",
       "      <th>146</th>\n",
       "    </tr>\n",
       "  </thead>\n",
       "  <tbody>\n",
       "    <tr>\n",
       "      <th>count</th>\n",
       "      <td>779.000000</td>\n",
       "      <td>779.000000</td>\n",
       "      <td>779.0</td>\n",
       "      <td>779.000000</td>\n",
       "    </tr>\n",
       "    <tr>\n",
       "      <th>mean</th>\n",
       "      <td>1.888314</td>\n",
       "      <td>3.037212</td>\n",
       "      <td>0.0</td>\n",
       "      <td>1.066637</td>\n",
       "    </tr>\n",
       "    <tr>\n",
       "      <th>std</th>\n",
       "      <td>1.095231</td>\n",
       "      <td>2.371334</td>\n",
       "      <td>0.0</td>\n",
       "      <td>2.441341</td>\n",
       "    </tr>\n",
       "    <tr>\n",
       "      <th>min</th>\n",
       "      <td>0.020486</td>\n",
       "      <td>1.694749</td>\n",
       "      <td>0.0</td>\n",
       "      <td>-0.306492</td>\n",
       "    </tr>\n",
       "    <tr>\n",
       "      <th>25%</th>\n",
       "      <td>0.984984</td>\n",
       "      <td>1.694749</td>\n",
       "      <td>0.0</td>\n",
       "      <td>-0.306492</td>\n",
       "    </tr>\n",
       "    <tr>\n",
       "      <th>50%</th>\n",
       "      <td>1.888245</td>\n",
       "      <td>1.694749</td>\n",
       "      <td>0.0</td>\n",
       "      <td>-0.008279</td>\n",
       "    </tr>\n",
       "    <tr>\n",
       "      <th>75%</th>\n",
       "      <td>2.454696</td>\n",
       "      <td>3.606593</td>\n",
       "      <td>0.0</td>\n",
       "      <td>1.120669</td>\n",
       "    </tr>\n",
       "    <tr>\n",
       "      <th>max</th>\n",
       "      <td>5.746239</td>\n",
       "      <td>16.989500</td>\n",
       "      <td>0.0</td>\n",
       "      <td>13.752110</td>\n",
       "    </tr>\n",
       "  </tbody>\n",
       "</table>\n",
       "</div>"
      ],
      "text/plain": [
       "              143         144    145         146\n",
       "count  779.000000  779.000000  779.0  779.000000\n",
       "mean     1.888314    3.037212    0.0    1.066637\n",
       "std      1.095231    2.371334    0.0    2.441341\n",
       "min      0.020486    1.694749    0.0   -0.306492\n",
       "25%      0.984984    1.694749    0.0   -0.306492\n",
       "50%      1.888245    1.694749    0.0   -0.008279\n",
       "75%      2.454696    3.606593    0.0    1.120669\n",
       "max      5.746239   16.989500    0.0   13.752110"
      ]
     },
     "execution_count": 41,
     "metadata": {},
     "output_type": "execute_result"
    }
   ],
   "source": [
    "y.describe()"
   ]
  },
  {
   "cell_type": "code",
   "execution_count": 34,
   "metadata": {},
   "outputs": [
    {
     "name": "stdout",
     "output_type": "stream",
     "text": [
      "\n",
      "-- METRICS --\n",
      "mean_squared_error            0.0499\n",
      "explained_variance_score      0.9893\n",
      "mean_absolute_error           0.0272\n",
      "median_absolute_error         0.0010\n",
      "mean_squared_log_error        Cannot be computed\n",
      "r2_score                      0.9891\n"
     ]
    }
   ],
   "source": [
    "metrics(regr_multirfr, x, y)"
   ]
  }
 ],
 "metadata": {
  "kernelspec": {
   "display_name": "Python 3",
   "language": "python",
   "name": "python3"
  },
  "language_info": {
   "codemirror_mode": {
    "name": "ipython",
    "version": 3
   },
   "file_extension": ".py",
   "mimetype": "text/x-python",
   "name": "python",
   "nbconvert_exporter": "python",
   "pygments_lexer": "ipython3",
   "version": "3.7.6"
  }
 },
 "nbformat": 4,
 "nbformat_minor": 2
}
